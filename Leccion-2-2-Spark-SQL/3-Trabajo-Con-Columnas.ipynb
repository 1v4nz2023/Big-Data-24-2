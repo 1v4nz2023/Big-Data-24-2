{
 "cells": [
  {
   "cell_type": "code",
   "execution_count": 2,
   "metadata": {},
   "outputs": [
    {
     "name": "stderr",
     "output_type": "stream",
     "text": [
      "                                                                                \r"
     ]
    },
    {
     "name": "stdout",
     "output_type": "stream",
     "text": [
      "root\n",
      " |-- video_id: string (nullable = true)\n",
      " |-- trending_date: string (nullable = true)\n",
      " |-- title: string (nullable = true)\n",
      " |-- channel_title: string (nullable = true)\n",
      " |-- category_id: string (nullable = true)\n",
      " |-- publish_time: string (nullable = true)\n",
      " |-- tags: string (nullable = true)\n",
      " |-- views: string (nullable = true)\n",
      " |-- likes: string (nullable = true)\n",
      " |-- dislikes: string (nullable = true)\n",
      " |-- comment_count: string (nullable = true)\n",
      " |-- thumbnail_link: string (nullable = true)\n",
      " |-- comments_disabled: string (nullable = true)\n",
      " |-- ratings_disabled: string (nullable = true)\n",
      " |-- video_error_or_removed: string (nullable = true)\n",
      " |-- description: string (nullable = true)\n",
      "\n"
     ]
    },
    {
     "name": "stderr",
     "output_type": "stream",
     "text": [
      "24/09/07 10:25:18 WARN GarbageCollectionMetrics: To enable non-built-in garbage collector(s) List(G1 Concurrent GC), users should configure it(them) to spark.eventLog.gcMetrics.youngGenerationGarbageCollectors or spark.eventLog.gcMetrics.oldGenerationGarbageCollectors\n"
     ]
    }
   ],
   "source": [
    "# Trabajo con columnas\n",
    "\n",
    "import findspark\n",
    "findspark.init()\n",
    "from pyspark.sql import SparkSession\n",
    "\n",
    "spark = SparkSession.builder.getOrCreate()\n",
    "\n",
    "df = spark.read.parquet('./data-para-3/dataPARQUET.parquet')\n",
    "\n",
    "df.printSchema()"
   ]
  },
  {
   "cell_type": "code",
   "execution_count": 3,
   "metadata": {},
   "outputs": [
    {
     "name": "stdout",
     "output_type": "stream",
     "text": [
      "+--------------------+\n",
      "|               title|\n",
      "+--------------------+\n",
      "|WE WANT TO TALK A...|\n",
      "|The Trump Preside...|\n",
      "|Racist Superman |...|\n",
      "|Nickelback Lyrics...|\n",
      "|I Dare You: GOING...|\n",
      "|2 Weeks with iPho...|\n",
      "|Roy Moore & Jeff ...|\n",
      "|5 Ice Cream Gadge...|\n",
      "|The Greatest Show...|\n",
      "|Why the rise of t...|\n",
      "|Dion Lewis' 103-Y...|\n",
      "|(SPOILERS) 'Shiva...|\n",
      "|Marshmello - Bloc...|\n",
      "|Which Countries A...|\n",
      "|SHOPPING FOR NEW ...|\n",
      "|    The New SpotMini|\n",
      "|One Change That W...|\n",
      "|How does your bod...|\n",
      "|HomeMade Electric...|\n",
      "|Founding An Inbre...|\n",
      "+--------------------+\n",
      "only showing top 20 rows\n",
      "\n"
     ]
    }
   ],
   "source": [
    "# Primera alternativa para referirnos a las columnas\n",
    "\n",
    "df.select('title').show()\n"
   ]
  },
  {
   "cell_type": "code",
   "execution_count": 4,
   "metadata": {},
   "outputs": [
    {
     "name": "stdout",
     "output_type": "stream",
     "text": [
      "+--------------------+\n",
      "|               title|\n",
      "+--------------------+\n",
      "|WE WANT TO TALK A...|\n",
      "|The Trump Preside...|\n",
      "|Racist Superman |...|\n",
      "|Nickelback Lyrics...|\n",
      "|I Dare You: GOING...|\n",
      "|2 Weeks with iPho...|\n",
      "|Roy Moore & Jeff ...|\n",
      "|5 Ice Cream Gadge...|\n",
      "|The Greatest Show...|\n",
      "|Why the rise of t...|\n",
      "|Dion Lewis' 103-Y...|\n",
      "|(SPOILERS) 'Shiva...|\n",
      "|Marshmello - Bloc...|\n",
      "|Which Countries A...|\n",
      "|SHOPPING FOR NEW ...|\n",
      "|    The New SpotMini|\n",
      "|One Change That W...|\n",
      "|How does your bod...|\n",
      "|HomeMade Electric...|\n",
      "|Founding An Inbre...|\n",
      "+--------------------+\n",
      "only showing top 20 rows\n",
      "\n"
     ]
    }
   ],
   "source": [
    "# Segunda alternativa\n",
    "\n",
    "from pyspark.sql.functions import col\n",
    "\n",
    "df.select(col('title')).show()"
   ]
  }
 ],
 "metadata": {
  "kernelspec": {
   "display_name": "Big-Data",
   "language": "python",
   "name": "python3"
  },
  "language_info": {
   "codemirror_mode": {
    "name": "ipython",
    "version": 3
   },
   "file_extension": ".py",
   "mimetype": "text/x-python",
   "name": "python",
   "nbconvert_exporter": "python",
   "pygments_lexer": "ipython3",
   "version": "3.10.14"
  }
 },
 "nbformat": 4,
 "nbformat_minor": 2
}
