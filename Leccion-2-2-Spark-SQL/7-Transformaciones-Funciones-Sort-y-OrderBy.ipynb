{
 "cells": [
  {
   "cell_type": "code",
   "execution_count": 2,
   "metadata": {},
   "outputs": [
    {
     "name": "stderr",
     "output_type": "stream",
     "text": [
      "                                                                                \r"
     ]
    },
    {
     "name": "stdout",
     "output_type": "stream",
     "text": [
      "+------+-------+--------------------+--------+\n",
      "| likes|  views|            video_id|dislikes|\n",
      "+------+-------+--------------------+--------+\n",
      "| 63995|1525400|         bAkEd8r7Nnw|     896|\n",
      "|   427|   9036|         eijd-yjXY9E|      14|\n",
      "|  4145| 318249|         npcqBt_e4k0|     110|\n",
      "|  6669| 203615|         LeWtF5y9-6Q|     136|\n",
      "|  2166| 104499|         GhcqN2FDAnA|    1066|\n",
      "| 10834| 160196|         v_CMMWCN5nQ|     162|\n",
      "| 36068| 962042|         R8WBN3fJmwM|     845|\n",
      "|   982|  36848|         oKuPJ7zF0_k|       6|\n",
      "| 26482| 713615|         B3JFSL8AA70|    2443|\n",
      "|275632|2822642|         f6Egj7ncOi8|    1444|\n",
      "| 23922| 321885|         8gE6cek7F30|     317|\n",
      "|    70|  13670|         EdkK29-TWJk|       1|\n",
      "|  1131| 120802|         8szK9FBpdPI|      92|\n",
      "| 12355| 294080|         6gFj1XJ6b5o|      80|\n",
      "|  NULL|   NULL|\\nhttp://www.Mast...|    NULL|\n",
      "| 12070| 233766|         wOFuVNiAJQQ|     117|\n",
      "| 21067| 210371|         PpElRBQ-yGc|     135|\n",
      "|  4609| 363194|         q11UD-6XT-8|     955|\n",
      "|   188|  31145|         IzQwbRdh5Ts|       1|\n",
      "|  2184|  74090|         IfdihPR__WI|      47|\n",
      "+------+-------+--------------------+--------+\n",
      "only showing top 20 rows\n",
      "\n"
     ]
    }
   ],
   "source": [
    "# Transformaciones - funciones sort y orderBy\n",
    "\n",
    "import findspark\n",
    "findspark.init()\n",
    "from pyspark.sql import SparkSession\n",
    "\n",
    "spark = SparkSession.builder.getOrCreate()\n",
    "\n",
    "from pyspark.sql.functions import col\n",
    "\n",
    "df = (spark.read.parquet('./data-para-7')\n",
    "    .select(col('likes'), col('views'), col('video_id'), col('dislikes'))\n",
    "    .dropDuplicates(['video_id'])\n",
    ")\n",
    "\n",
    "df.show()"
   ]
  },
  {
   "cell_type": "code",
   "execution_count": 3,
   "metadata": {},
   "outputs": [
    {
     "name": "stdout",
     "output_type": "stream",
     "text": [
      "+-----+-----+--------------------+--------+\n",
      "|likes|views|            video_id|dislikes|\n",
      "+-----+-----+--------------------+--------+\n",
      "| NULL| NULL|\\nFor more videos...|    NULL|\n",
      "| NULL| NULL|\\nFashion Editor:...|    NULL|\n",
      "| NULL| NULL|\\nAccess Hollywoo...|    NULL|\n",
      "| NULL| NULL|\\nStill haven’t s...|    NULL|\n",
      "| NULL| NULL|\\nhttps://www.you...|    NULL|\n",
      "| NULL| NULL|Horror Outro ► ht...|    NULL|\n",
      "| NULL| NULL|\\nChapped lips ar...|    NULL|\n",
      "| NULL| NULL|\\nRoar: https://w...|    NULL|\n",
      "| NULL| NULL|\\nThe leading int...|    NULL|\n",
      "| NULL| NULL|             \\nToday|    NULL|\n",
      "| NULL| NULL|\\nONE STRANGE ROC...|    NULL|\n",
      "| NULL| NULL|\\nSNAPCHAT: fishi...|    NULL|\n",
      "| NULL| NULL|\\nInstagram: http...|    NULL|\n",
      "| NULL| NULL|\\nInstagram.com/w...|    NULL|\n",
      "| NULL| NULL|\\n5050 State Hwy....|    NULL|\n",
      "| NULL| NULL|\\nSIGN UP FOR BRA...|    NULL|\n",
      "| NULL| NULL|\\nJames Ambler an...|    NULL|\n",
      "| NULL| NULL|\\nhttp://www.Mast...|    NULL|\n",
      "| NULL| NULL|\\nEver After Tuto...|    NULL|\n",
      "| NULL| NULL|          \\nEvelin 7|    NULL|\n",
      "+-----+-----+--------------------+--------+\n",
      "only showing top 20 rows\n",
      "\n"
     ]
    }
   ],
   "source": [
    "# sort\n",
    "\n",
    "df.sort('likes').show()"
   ]
  },
  {
   "cell_type": "code",
   "execution_count": 4,
   "metadata": {},
   "outputs": [
    {
     "name": "stdout",
     "output_type": "stream",
     "text": [
      "+-------+--------+-----------+--------+\n",
      "|  likes|   views|   video_id|dislikes|\n",
      "+-------+--------+-----------+--------+\n",
      "|3880071|39349927|7C2z4GqqS5E|   72707|\n",
      "|2055137|13945717|kTlv5_Bs8aw|   23888|\n",
      "|2050527|10695328|OK3GJ0WIQ8s|   14711|\n",
      "|1956202|10666323|p8npDG2ulKQ|   13966|\n",
      "|1735895|37736281|6ZfuNTqbHE8|   21969|\n",
      "|1634124|33523622|2Vv-BfVoq4g|   21082|\n",
      "|1572997| 7518332|kX0vO4vlJuU|    8113|\n",
      "|1437859| 5884233|D_6QmL6rExk|    6390|\n",
      "|1405355|31648454|VYOjWnS4cMY|   51547|\n",
      "|1401915| 5275672|8O_MwlZ2dEg|    6268|\n",
      "|1386616|15873034|ffxKSjUwKdU|   40714|\n",
      "|1366736|16884972|J2HytHu5VBI|   59930|\n",
      "|1290509| 6416697|2tDKp41nrw8|    4358|\n",
      "|1207457|13754992|_5d-sQ7Fh5M|  280675|\n",
      "|1167488| 8041970|oWjxSkJpxFU|  147643|\n",
      "|1149185|24782158|FlsCjmMhFmw|  483924|\n",
      "|1111592|38873543|i0p1bmr0EmE|   96407|\n",
      "|1065777|14089954|dfnCAmr569k|   47839|\n",
      "| 983693|14820746|tCXGJQYZ9JA|   44254|\n",
      "| 975715|19716689|QwievZ1Tx-8|    9118|\n",
      "+-------+--------+-----------+--------+\n",
      "only showing top 20 rows\n",
      "\n"
     ]
    }
   ],
   "source": [
    "from pyspark.sql.functions import desc\n",
    "\n",
    "df.sort(desc('likes')).show()"
   ]
  },
  {
   "cell_type": "code",
   "execution_count": 5,
   "metadata": {},
   "outputs": [
    {
     "name": "stdout",
     "output_type": "stream",
     "text": [
      "+-----+-----+--------------------+--------+\n",
      "|likes|views|            video_id|dislikes|\n",
      "+-----+-----+--------------------+--------+\n",
      "| NULL| NULL|\\nIMDB - http://w...|    NULL|\n",
      "| NULL| NULL|\\nThis is the fir...|    NULL|\n",
      "| NULL| NULL|\\nAccess Hollywoo...|    NULL|\n",
      "| NULL| NULL|\\nStill haven’t s...|    NULL|\n",
      "| NULL| NULL|\\nhttps://www.you...|    NULL|\n",
      "| NULL| NULL|          \\nEvelin 7|    NULL|\n",
      "| NULL| NULL|Horror Outro ► ht...|    NULL|\n",
      "| NULL| NULL|\\nChapped lips ar...|    NULL|\n",
      "| NULL| NULL|\\nRoar: https://w...|    NULL|\n",
      "| NULL| NULL|\\nThe leading int...|    NULL|\n",
      "| NULL| NULL|             \\nToday|    NULL|\n",
      "| NULL| NULL|\\nONE STRANGE ROC...|    NULL|\n",
      "| NULL| NULL|\\nSNAPCHAT: fishi...|    NULL|\n",
      "| NULL| NULL|\\nInstagram: http...|    NULL|\n",
      "| NULL| NULL|\\nInstagram.com/w...|    NULL|\n",
      "| NULL| NULL|\\n5050 State Hwy....|    NULL|\n",
      "| NULL| NULL|\\nFor more videos...|    NULL|\n",
      "| NULL| NULL|\\nJames Ambler an...|    NULL|\n",
      "| NULL| NULL|\\nFashion Editor:...|    NULL|\n",
      "| NULL| NULL|\\nEver After Tuto...|    NULL|\n",
      "+-----+-----+--------------------+--------+\n",
      "only showing top 20 rows\n",
      "\n"
     ]
    }
   ],
   "source": [
    "# función orderBy\n",
    "\n",
    "df.orderBy(col('views')).show()"
   ]
  },
  {
   "cell_type": "code",
   "execution_count": 6,
   "metadata": {},
   "outputs": [
    {
     "name": "stdout",
     "output_type": "stream",
     "text": [
      "+-------+--------+-----------+--------+\n",
      "|  likes|   views|   video_id|dislikes|\n",
      "+-------+--------+-----------+--------+\n",
      "| 609101|48431654|-BQJo3vK8O8|   52259|\n",
      "|3880071|39349927|7C2z4GqqS5E|   72707|\n",
      "|1111592|38873543|i0p1bmr0EmE|   96407|\n",
      "|1735895|37736281|6ZfuNTqbHE8|   21969|\n",
      "|1634124|33523622|2Vv-BfVoq4g|   21082|\n",
      "|1405355|31648454|VYOjWnS4cMY|   51547|\n",
      "| 850362|27973210|u9Mv98Gr5pY|   26541|\n",
      "|1149185|24782158|FlsCjmMhFmw|  483924|\n",
      "| 641546|24421448|U9BwWKXjVaI|   16517|\n",
      "| 587326|23758250|1J76wN0TPI4|   18799|\n",
      "|      0|20921796|BhIEIO0vaBE|       0|\n",
      "| 975715|19716689|QwievZ1Tx-8|    9118|\n",
      "| 511753|18639195|rRr1qiJRsXk|   15606|\n",
      "| 754791|18195959|rRzxEiBLQCA|   65326|\n",
      "| 399200|18184886|vn9mMeWcgoM|   17473|\n",
      "| 787419|17158531|n1WpP7iowLc|   43420|\n",
      "|1366736|16884972|J2HytHu5VBI|   59930|\n",
      "|1386616|15873034|ffxKSjUwKdU|   40714|\n",
      "| 278743|15006579|yDiXQl7grPQ|   13599|\n",
      "| 983693|14820746|tCXGJQYZ9JA|   44254|\n",
      "+-------+--------+-----------+--------+\n",
      "only showing top 20 rows\n",
      "\n"
     ]
    }
   ],
   "source": [
    "df.orderBy(col('views').desc()).show()"
   ]
  },
  {
   "cell_type": "code",
   "execution_count": 7,
   "metadata": {},
   "outputs": [
    {
     "name": "stdout",
     "output_type": "stream",
     "text": [
      "+---+-----+-------+\n",
      "| id|color|importe|\n",
      "+---+-----+-------+\n",
      "|  1| azul|    568|\n",
      "|  2| rojo|    235|\n",
      "|  1| azul|    456|\n",
      "|  2| azul|    783|\n",
      "+---+-----+-------+\n",
      "\n"
     ]
    }
   ],
   "source": [
    "dataframe = spark.createDataFrame([(1, 'azul', 568), (2, 'rojo', 235), (1, 'azul', 456), (2, 'azul', 783)]).toDF('id', 'color', 'importe')\n",
    "\n",
    "dataframe.show()"
   ]
  },
  {
   "cell_type": "code",
   "execution_count": 8,
   "metadata": {},
   "outputs": [
    {
     "name": "stdout",
     "output_type": "stream",
     "text": [
      "+---+-----+-------+\n",
      "| id|color|importe|\n",
      "+---+-----+-------+\n",
      "|  2| rojo|    235|\n",
      "|  1| azul|    456|\n",
      "|  1| azul|    568|\n",
      "|  2| azul|    783|\n",
      "+---+-----+-------+\n",
      "\n"
     ]
    }
   ],
   "source": [
    "dataframe.orderBy(col('color').desc(), col('importe')).show()"
   ]
  },
  {
   "cell_type": "code",
   "execution_count": 9,
   "metadata": {},
   "outputs": [
    {
     "name": "stdout",
     "output_type": "stream",
     "text": [
      "+-------+--------+-----------+--------+\n",
      "|  likes|   views|   video_id|dislikes|\n",
      "+-------+--------+-----------+--------+\n",
      "| 609101|48431654|-BQJo3vK8O8|   52259|\n",
      "|3880071|39349927|7C2z4GqqS5E|   72707|\n",
      "|1111592|38873543|i0p1bmr0EmE|   96407|\n",
      "|1735895|37736281|6ZfuNTqbHE8|   21969|\n",
      "|1634124|33523622|2Vv-BfVoq4g|   21082|\n",
      "|1405355|31648454|VYOjWnS4cMY|   51547|\n",
      "| 850362|27973210|u9Mv98Gr5pY|   26541|\n",
      "|1149185|24782158|FlsCjmMhFmw|  483924|\n",
      "| 641546|24421448|U9BwWKXjVaI|   16517|\n",
      "| 587326|23758250|1J76wN0TPI4|   18799|\n",
      "+-------+--------+-----------+--------+\n",
      "\n"
     ]
    }
   ],
   "source": [
    "# funcion limit \n",
    "\n",
    "top_10 = df.orderBy(col('views').desc()).limit(10)\n",
    "\n",
    "top_10.show()\n"
   ]
  }
 ],
 "metadata": {
  "kernelspec": {
   "display_name": "Big-Data",
   "language": "python",
   "name": "python3"
  },
  "language_info": {
   "codemirror_mode": {
    "name": "ipython",
    "version": 3
   },
   "file_extension": ".py",
   "mimetype": "text/x-python",
   "name": "python",
   "nbconvert_exporter": "python",
   "pygments_lexer": "ipython3",
   "version": "3.10.14"
  }
 },
 "nbformat": 4,
 "nbformat_minor": 2
}
