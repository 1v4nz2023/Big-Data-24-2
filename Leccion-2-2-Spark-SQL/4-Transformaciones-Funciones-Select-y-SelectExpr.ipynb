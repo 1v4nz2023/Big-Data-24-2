{
 "cells": [
  {
   "cell_type": "code",
   "execution_count": 1,
   "metadata": {},
   "outputs": [
    {
     "name": "stderr",
     "output_type": "stream",
     "text": [
      "24/09/07 10:27:48 WARN Utils: Your hostname, MacBook-Pro-de-Kevin.local resolves to a loopback address: 127.0.0.1; using 192.168.1.106 instead (on interface en0)\n",
      "24/09/07 10:27:48 WARN Utils: Set SPARK_LOCAL_IP if you need to bind to another address\n",
      "Setting default log level to \"WARN\".\n",
      "To adjust logging level use sc.setLogLevel(newLevel). For SparkR, use setLogLevel(newLevel).\n",
      "24/09/07 10:27:48 WARN NativeCodeLoader: Unable to load native-hadoop library for your platform... using builtin-java classes where applicable\n",
      "24/09/07 10:27:49 WARN Utils: Service 'SparkUI' could not bind on port 4040. Attempting port 4041.\n",
      "24/09/07 10:27:49 WARN Utils: Service 'SparkUI' could not bind on port 4041. Attempting port 4042.\n",
      "24/09/07 10:27:49 WARN Utils: Service 'SparkUI' could not bind on port 4042. Attempting port 4043.\n",
      "24/09/07 10:27:49 WARN Utils: Service 'SparkUI' could not bind on port 4043. Attempting port 4044.\n",
      "                                                                                \r"
     ]
    },
    {
     "name": "stdout",
     "output_type": "stream",
     "text": [
      "root\n",
      " |-- video_id: string (nullable = true)\n",
      " |-- trending_date: string (nullable = true)\n",
      " |-- title: string (nullable = true)\n",
      " |-- channel_title: string (nullable = true)\n",
      " |-- category_id: string (nullable = true)\n",
      " |-- publish_time: timestamp (nullable = true)\n",
      " |-- tags: string (nullable = true)\n",
      " |-- views: integer (nullable = true)\n",
      " |-- likes: integer (nullable = true)\n",
      " |-- dislikes: integer (nullable = true)\n",
      " |-- comment_count: integer (nullable = true)\n",
      " |-- thumbnail_link: string (nullable = true)\n",
      " |-- comments_disabled: string (nullable = true)\n",
      " |-- ratings_disabled: string (nullable = true)\n",
      " |-- video_error_or_removed: string (nullable = true)\n",
      " |-- description: string (nullable = true)\n",
      "\n"
     ]
    },
    {
     "name": "stderr",
     "output_type": "stream",
     "text": [
      "24/09/07 10:28:09 WARN GarbageCollectionMetrics: To enable non-built-in garbage collector(s) List(G1 Concurrent GC), users should configure it(them) to spark.eventLog.gcMetrics.youngGenerationGarbageCollectors or spark.eventLog.gcMetrics.oldGenerationGarbageCollectors\n",
      "24/09/07 10:28:09 WARN GarbageCollectionMetrics: To enable non-built-in garbage collector(s) List(G1 Concurrent GC), users should configure it(them) to spark.eventLog.gcMetrics.youngGenerationGarbageCollectors or spark.eventLog.gcMetrics.oldGenerationGarbageCollectors\n"
     ]
    }
   ],
   "source": [
    "# Transformaciones - funciones select y selectExpr\n",
    "\n",
    "import findspark\n",
    "findspark.init()\n",
    "from pyspark.sql import SparkSession\n",
    "\n",
    "spark = SparkSession.builder.getOrCreate()\n",
    "\n",
    "# select\n",
    "\n",
    "df = spark.read.parquet('./data-para-4/datos.parquet')\n",
    "\n",
    "df.printSchema()"
   ]
  },
  {
   "cell_type": "code",
   "execution_count": 2,
   "metadata": {},
   "outputs": [
    {
     "name": "stdout",
     "output_type": "stream",
     "text": [
      "+-----------+\n",
      "|   video_id|\n",
      "+-----------+\n",
      "|2kyS6SvSYSE|\n",
      "|1ZAPwfrtAFY|\n",
      "|5qpjK5DgCt4|\n",
      "|puqaWrEC7tY|\n",
      "|d380meD0W0M|\n",
      "|gHZ1Qz0KiKM|\n",
      "|39idVpFF7NQ|\n",
      "|nc99ccSXST0|\n",
      "|jr9QtXwC9vc|\n",
      "|TUmyygCMMGA|\n",
      "|9wRQljFNDW8|\n",
      "|VifQlJit6A0|\n",
      "|5E4ZBSInqUU|\n",
      "|GgVmn66oK_A|\n",
      "|TaTleo4cOs8|\n",
      "|kgaO45SyaO4|\n",
      "|ZAQs-ctOqXQ|\n",
      "|YVfyYrEmzgM|\n",
      "|eNSN6qet1kE|\n",
      "|B5HORANmzHw|\n",
      "+-----------+\n",
      "only showing top 20 rows\n",
      "\n",
      "+-----------+-------------+\n",
      "|   video_id|trending_date|\n",
      "+-----------+-------------+\n",
      "|2kyS6SvSYSE|     17.14.11|\n",
      "|1ZAPwfrtAFY|     17.14.11|\n",
      "|5qpjK5DgCt4|     17.14.11|\n",
      "|puqaWrEC7tY|     17.14.11|\n",
      "|d380meD0W0M|     17.14.11|\n",
      "|gHZ1Qz0KiKM|     17.14.11|\n",
      "|39idVpFF7NQ|     17.14.11|\n",
      "|nc99ccSXST0|     17.14.11|\n",
      "|jr9QtXwC9vc|     17.14.11|\n",
      "|TUmyygCMMGA|     17.14.11|\n",
      "|9wRQljFNDW8|     17.14.11|\n",
      "|VifQlJit6A0|     17.14.11|\n",
      "|5E4ZBSInqUU|     17.14.11|\n",
      "|GgVmn66oK_A|     17.14.11|\n",
      "|TaTleo4cOs8|     17.14.11|\n",
      "|kgaO45SyaO4|     17.14.11|\n",
      "|ZAQs-ctOqXQ|     17.14.11|\n",
      "|YVfyYrEmzgM|     17.14.11|\n",
      "|eNSN6qet1kE|     17.14.11|\n",
      "|B5HORANmzHw|     17.14.11|\n",
      "+-----------+-------------+\n",
      "only showing top 20 rows\n",
      "\n"
     ]
    }
   ],
   "source": [
    "from pyspark.sql.functions import col\n",
    "\n",
    "df.select(col('video_id')).show()\n",
    "\n",
    "df.select('video_id', 'trending_date').show()"
   ]
  },
  {
   "cell_type": "code",
   "execution_count": 3,
   "metadata": {},
   "outputs": [
    {
     "ename": "TypeError",
     "evalue": "unsupported operand type(s) for -: 'str' and 'str'",
     "output_type": "error",
     "traceback": [
      "\u001b[0;31m---------------------------------------------------------------------------\u001b[0m",
      "\u001b[0;31mTypeError\u001b[0m                                 Traceback (most recent call last)",
      "Cell \u001b[0;32mIn[3], line 6\u001b[0m\n\u001b[1;32m      1\u001b[0m \u001b[38;5;66;03m# Esta vía nos dará error\u001b[39;00m\n\u001b[1;32m      3\u001b[0m df\u001b[38;5;241m.\u001b[39mselect(\n\u001b[1;32m      4\u001b[0m     \u001b[38;5;124m'\u001b[39m\u001b[38;5;124mlikes\u001b[39m\u001b[38;5;124m'\u001b[39m,\n\u001b[1;32m      5\u001b[0m     \u001b[38;5;124m'\u001b[39m\u001b[38;5;124mdislikes\u001b[39m\u001b[38;5;124m'\u001b[39m,\n\u001b[0;32m----> 6\u001b[0m     (\u001b[38;5;124;43m'\u001b[39;49m\u001b[38;5;124;43mlikes\u001b[39;49m\u001b[38;5;124;43m'\u001b[39;49m\u001b[43m \u001b[49m\u001b[38;5;241;43m-\u001b[39;49m\u001b[43m \u001b[49m\u001b[38;5;124;43m'\u001b[39;49m\u001b[38;5;124;43mdislikes\u001b[39;49m\u001b[38;5;124;43m'\u001b[39;49m)\n\u001b[1;32m      7\u001b[0m )\u001b[38;5;241m.\u001b[39mshow()\n",
      "\u001b[0;31mTypeError\u001b[0m: unsupported operand type(s) for -: 'str' and 'str'"
     ]
    }
   ],
   "source": [
    "# Esta vía nos dará error\n",
    "\n",
    "df.select(\n",
    "    'likes',\n",
    "    'dislikes',\n",
    "    ('likes' - 'dislikes')\n",
    ").show()"
   ]
  },
  {
   "cell_type": "code",
   "execution_count": 4,
   "metadata": {},
   "outputs": [
    {
     "name": "stdout",
     "output_type": "stream",
     "text": [
      "+------+--------+----------+\n",
      "| likes|dislikes|aceptacion|\n",
      "+------+--------+----------+\n",
      "| 57527|    2966|     54561|\n",
      "| 97185|    6146|     91039|\n",
      "|146033|    5339|    140694|\n",
      "| 10172|     666|      9506|\n",
      "|132235|    1989|    130246|\n",
      "|  9763|     511|      9252|\n",
      "| 15993|    2445|     13548|\n",
      "| 23663|     778|     22885|\n",
      "|  3543|     119|      3424|\n",
      "| 12654|    1363|     11291|\n",
      "|   655|      25|       630|\n",
      "|  1576|     303|      1273|\n",
      "|114188|    1333|    112855|\n",
      "|  7848|    1171|      6677|\n",
      "|  7473|     246|      7227|\n",
      "|  9419|      52|      9367|\n",
      "|  8011|     638|      7373|\n",
      "|  5398|      53|      5345|\n",
      "| 11963|      36|     11927|\n",
      "|  8421|     191|      8230|\n",
      "+------+--------+----------+\n",
      "only showing top 20 rows\n",
      "\n"
     ]
    }
   ],
   "source": [
    "# Forma correcta\n",
    "\n",
    "df.select(\n",
    "    col('likes'),\n",
    "    col('dislikes'),\n",
    "    (col('likes') - col('dislikes')).alias('aceptacion')\n",
    ").show()"
   ]
  },
  {
   "cell_type": "code",
   "execution_count": 5,
   "metadata": {},
   "outputs": [
    {
     "name": "stdout",
     "output_type": "stream",
     "text": [
      "+------+--------+----------+\n",
      "| likes|dislikes|aceptacion|\n",
      "+------+--------+----------+\n",
      "| 57527|    2966|     54561|\n",
      "| 97185|    6146|     91039|\n",
      "|146033|    5339|    140694|\n",
      "| 10172|     666|      9506|\n",
      "|132235|    1989|    130246|\n",
      "|  9763|     511|      9252|\n",
      "| 15993|    2445|     13548|\n",
      "| 23663|     778|     22885|\n",
      "|  3543|     119|      3424|\n",
      "| 12654|    1363|     11291|\n",
      "|   655|      25|       630|\n",
      "|  1576|     303|      1273|\n",
      "|114188|    1333|    112855|\n",
      "|  7848|    1171|      6677|\n",
      "|  7473|     246|      7227|\n",
      "|  9419|      52|      9367|\n",
      "|  8011|     638|      7373|\n",
      "|  5398|      53|      5345|\n",
      "| 11963|      36|     11927|\n",
      "|  8421|     191|      8230|\n",
      "+------+--------+----------+\n",
      "only showing top 20 rows\n",
      "\n",
      "+------+\n",
      "|videos|\n",
      "+------+\n",
      "|  6837|\n",
      "+------+\n",
      "\n"
     ]
    }
   ],
   "source": [
    "# selectExpr\n",
    "\n",
    "df.selectExpr('likes', 'dislikes', '(likes - dislikes) as aceptacion').show()\n",
    "\n",
    "df.selectExpr(\"count(distinct(video_id)) as videos\").show()\n"
   ]
  }
 ],
 "metadata": {
  "kernelspec": {
   "display_name": "Big-Data",
   "language": "python",
   "name": "python3"
  },
  "language_info": {
   "codemirror_mode": {
    "name": "ipython",
    "version": 3
   },
   "file_extension": ".py",
   "mimetype": "text/x-python",
   "name": "python",
   "nbconvert_exporter": "python",
   "pygments_lexer": "ipython3",
   "version": "3.10.14"
  }
 },
 "nbformat": 4,
 "nbformat_minor": 2
}
