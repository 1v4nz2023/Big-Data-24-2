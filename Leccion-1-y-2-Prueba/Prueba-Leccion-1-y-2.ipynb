{
 "cells": [
  {
   "cell_type": "code",
   "execution_count": 5,
   "metadata": {},
   "outputs": [
    {
     "data": {
      "text/html": [
       "\n",
       "            <div>\n",
       "                <p><b>SparkSession - in-memory</b></p>\n",
       "                \n",
       "        <div>\n",
       "            <p><b>SparkContext</b></p>\n",
       "\n",
       "            <p><a href=\"http://host.docker.internal:4040\">Spark UI</a></p>\n",
       "\n",
       "            <dl>\n",
       "              <dt>Version</dt>\n",
       "                <dd><code>v3.5.2</code></dd>\n",
       "              <dt>Master</dt>\n",
       "                <dd><code>local[*]</code></dd>\n",
       "              <dt>AppName</dt>\n",
       "                <dd><code>Cap2</code></dd>\n",
       "            </dl>\n",
       "        </div>\n",
       "        \n",
       "            </div>\n",
       "        "
      ],
      "text/plain": [
       "<pyspark.sql.session.SparkSession at 0x17162189040>"
      ]
     },
     "execution_count": 5,
     "metadata": {},
     "output_type": "execute_result"
    }
   ],
   "source": [
    "# 1. Cree una sesión de Spark con nombre Cap2 y asegúrese de que emplea todos los cores disponibles \n",
    "#    para ejecutar en su ambiente de trabajo.\n",
    "import findspark\n",
    "\n",
    "findspark.init()\n",
    "\n",
    "from pyspark.sql import SparkSession\n",
    "\n",
    "spark = SparkSession.builder.master(\"local[*]\").appName('Cap2').getOrCreate()\n",
    "\n",
    "spark"
   ]
  },
  {
   "cell_type": "code",
   "execution_count": 6,
   "metadata": {},
   "outputs": [
    {
     "name": "stdout",
     "output_type": "stream",
     "text": [
      "Número de particiones de rdd_empty: 0\n",
      "Número de particiones de rdd_empty2: 5\n"
     ]
    }
   ],
   "source": [
    "# 2. Cree dos RDD vacíos, uno de ellos no debe contener particiones y el otro debe tener 5 \n",
    "#    particiones. Utilice vías diferentes para crear cada RDD.\n",
    "\n",
    "sc = spark.sparkContext\n",
    "rdd_empty = sc.emptyRDD()\n",
    "rdd_empty2 = sc.parallelize([],5)\n",
    "rdd_empty.getNumPartitions()\n",
    "rdd_empty2.getNumPartitions()\n",
    "print(f\"Número de particiones de rdd_empty: {rdd_empty.getNumPartitions()}\")\n",
    "print(f\"Número de particiones de rdd_empty2: {rdd_empty2.getNumPartitions()}\")"
   ]
  },
  {
   "cell_type": "code",
   "execution_count": 10,
   "metadata": {},
   "outputs": [
    {
     "data": {
      "text/plain": [
       "[2, 3, 5, 7, 11, 13, 17, 19]"
      ]
     },
     "execution_count": 10,
     "metadata": {},
     "output_type": "execute_result"
    }
   ],
   "source": [
    "# 3. Cree un RDD que contenga los números primos que hay entre 1 y 20.\n",
    "rdd = sc.parallelize([2,3,5,7,11,13,17,19])\n",
    "rdd.collect()"
   ]
  },
  {
   "cell_type": "code",
   "execution_count": 11,
   "metadata": {},
   "outputs": [
    {
     "data": {
      "text/plain": [
       "[11, 13, 17, 19]"
      ]
     },
     "execution_count": 11,
     "metadata": {},
     "output_type": "execute_result"
    }
   ],
   "source": [
    "# 4. Cree un nuevo RDD a partir del RDD creado en el ejercicio anterior el cuál solo contenga los \n",
    "#    números primos mayores a 10.\n",
    "rdd2 = rdd.filter(lambda x: x>10)\n",
    "rdd2.collect()"
   ]
  },
  {
   "cell_type": "code",
   "execution_count": 13,
   "metadata": {},
   "outputs": [
    {
     "name": "stdout",
     "output_type": "stream",
     "text": [
      "Dirección del archivo de texto: ['file:/c:/Users/Ivan/Documents/Big-Data-24-2/Leccion-1-y-2-Prueba/data/el_valor_del_big_data.txt']\n"
     ]
    }
   ],
   "source": [
    "# 5. Descargue el archivo de texto adjunto a esta lección como recurso y guárdelo en una carpeta \n",
    "#    llamada data en el ambiente de trabajo de Colab.\n",
    "\n",
    "#       A) Cree un RDD a partir de este archivo de texto en donde todo el documento esté contenido \n",
    "#          en un solo registro. ¿Cómo podría saber la dirección donde está guardado el archivo de \n",
    "#          texto a partir del RDD creado?\n",
    "rdd_texto = sc.wholeTextFiles('./data/el_valor_del_big_data.txt')\n",
    "rdd_texto.collect()\n",
    "\n",
    "# Obtener la dirección donde está guardado el archivo de texto\n",
    "file_location = rdd_texto.keys().collect()\n",
    "print(f\"Dirección del archivo de texto: {file_location}\")"
   ]
  },
  {
   "cell_type": "code",
   "execution_count": 18,
   "metadata": {},
   "outputs": [
    {
     "data": {
      "text/plain": [
       "['El valor y la realidad de big data',\n",
       " 'En los últimos años, han surgido otras \"dos V\": valor y veracidad. Los datos poseen un valor intrínseco. Sin embargo, no tienen ninguna utilidad hasta que dicho valor se descubre. Resulta igualmente importante: ¿cuál es la veracidad de sus datos y cuánto puede confiar en ellos?',\n",
       " '',\n",
       " 'Hoy en día, el big data se ha convertido en un activo crucial. Piense en algunas de las mayores empresas tecnológicas del mundo. Gran parte del valor que ofrecen procede de sus datos, que analizan constantemente para generar una mayor eficiencia y desarrollar nuevos productos.',\n",
       " '',\n",
       " 'Avances tecnológicos recientes han reducido exponencialmente el coste del almacenamiento y la computación de datos, haciendo que almacenar datos resulte más fácil y barato que nunca. Actualmente, con un mayor volumen de big data más barato y accesible, puede tomar decisiones empresariales más acertadas y precisas.',\n",
       " '',\n",
       " 'Identificar el valor del big data no pasa solo por analizarlo (que es ya una ventaja en sí misma). Se trata de todo un proceso de descubrimiento que requiere que los analistas, usuarios empresariales y ejecutivos se planteen las preguntas correctas, identifiquen patrones, formulen hipótesis informadas y predigan comportamientos.']"
      ]
     },
     "execution_count": 18,
     "metadata": {},
     "output_type": "execute_result"
    }
   ],
   "source": [
    "#       B) Si necesitara crear un RDD a partir del archivo de texto cargado previamente en donde \n",
    "#          cada línea del archivo fuera un registro del RDD, ¿cómo lo haría?\n",
    "rdd2_texto = sc.textFile('./data/el_valor_del_big_data.txt')\n",
    "rdd2_texto.collect()"
   ]
  }
 ],
 "metadata": {
  "kernelspec": {
   "display_name": "BIGDATA",
   "language": "python",
   "name": "python3"
  },
  "language_info": {
   "codemirror_mode": {
    "name": "ipython",
    "version": 3
   },
   "file_extension": ".py",
   "mimetype": "text/x-python",
   "name": "python",
   "nbconvert_exporter": "python",
   "pygments_lexer": "ipython3",
   "version": "3.9.19"
  }
 },
 "nbformat": 4,
 "nbformat_minor": 2
}
