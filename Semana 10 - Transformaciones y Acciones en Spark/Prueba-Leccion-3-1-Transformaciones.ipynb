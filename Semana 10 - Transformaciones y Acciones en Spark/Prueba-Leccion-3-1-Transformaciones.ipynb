{
 "cells": [
  {
   "cell_type": "code",
   "execution_count": 7,
   "metadata": {},
   "outputs": [
    {
     "data": {
      "text/plain": [
       "['PYTHON', 'R', 'C', 'SCALA', 'RUGBY', 'SQL']"
      ]
     },
     "execution_count": 7,
     "metadata": {},
     "output_type": "execute_result"
    }
   ],
   "source": [
    "#1. Cree un RDD llamado lenguajes que contenga los siguientes lenguajes de programación: Python, R, C, \n",
    "#   Scala, Rugby y SQL.\n",
    "\n",
    "#       A) Obtenga un nuevo RDD a partir del RDD lenguajes donde todos los lenguajes de programación \n",
    "#          estén en mayúsculas.\n",
    "\n",
    "import findspark\n",
    "\n",
    "findspark.init()\n",
    "\n",
    "from pyspark.sql import SparkSession\n",
    "\n",
    "spark = SparkSession.builder.master(\"local[*]\").appName('Cap3').getOrCreate()\n",
    "\n",
    "sc = spark.sparkContext\n",
    "lenguajes = sc.parallelize([\"Python\", \"R\", \"C\", \"Scala\", \"Rugby\", \"SQL\"])\n",
    "\n",
    "lenguajes_mayusculas = lenguajes.map(lambda x: x.upper())\n",
    "lenguajes_mayusculas.collect()"
   ]
  },
  {
   "cell_type": "code",
   "execution_count": 9,
   "metadata": {},
   "outputs": [
    {
     "data": {
      "text/plain": [
       "['python', 'r', 'c', 'scala', 'rugby', 'sql']"
      ]
     },
     "execution_count": 9,
     "metadata": {},
     "output_type": "execute_result"
    }
   ],
   "source": [
    "#       B) Obtenga un nuevo RDD a partir del RDD lenguajes donde todos los lenguajes de programación \n",
    "#          estén en minúsculas.\n",
    "lenguajes_minusculas = lenguajes.map(lambda x: x.lower())\n",
    "lenguajes_minusculas.collect()\n",
    "\n"
   ]
  },
  {
   "cell_type": "code",
   "execution_count": 10,
   "metadata": {},
   "outputs": [
    {
     "data": {
      "text/plain": [
       "['R', 'Rugby']"
      ]
     },
     "execution_count": 10,
     "metadata": {},
     "output_type": "execute_result"
    }
   ],
   "source": [
    "#       C) Cree un nuevo RDD que solo contenga aquellos lenguajes de \n",
    "#         programación que comiencen con la letra R.\n",
    "lenguajes_con_R = lenguajes.filter(lambda x: x.startswith(\"R\"))\n",
    "lenguajes_con_R.collect()"
   ]
  },
  {
   "cell_type": "code",
   "execution_count": 12,
   "metadata": {},
   "outputs": [
    {
     "data": {
      "text/plain": [
       "[20, 22, 24, 26, 28, 30]"
      ]
     },
     "execution_count": 12,
     "metadata": {},
     "output_type": "execute_result"
    }
   ],
   "source": [
    "#2. Cree un RDD llamado pares que contenga los números pares existentes en el intervalo [20;30].\n",
    "pares = sc.parallelize([x for x in range(20, 31) if x % 2 == 0])\n",
    "pares.collect()"
   ]
  },
  {
   "cell_type": "code",
   "execution_count": 14,
   "metadata": {},
   "outputs": [
    {
     "data": {
      "text/plain": [
       "[4.47213595499958,\n",
       " 4.69041575982343,\n",
       " 4.898979485566356,\n",
       " 5.0990195135927845,\n",
       " 5.291502622129181,\n",
       " 5.477225575051661]"
      ]
     },
     "execution_count": 14,
     "metadata": {},
     "output_type": "execute_result"
    }
   ],
   "source": [
    "#       A) Cree el RDD llamado sqrt, este debe contener la raíz cuadrada de los elementos que componen \n",
    "#         el RDD pares.\n",
    "import math\n",
    "\n",
    "sqrt = pares.map(lambda x: math.sqrt(x))\n",
    "sqrt.collect()\n"
   ]
  },
  {
   "cell_type": "code",
   "execution_count": 15,
   "metadata": {},
   "outputs": [
    {
     "data": {
      "text/plain": [
       "[20,\n",
       " 4.47213595499958,\n",
       " 22,\n",
       " 4.69041575982343,\n",
       " 24,\n",
       " 4.898979485566356,\n",
       " 26,\n",
       " 5.0990195135927845,\n",
       " 28,\n",
       " 5.291502622129181,\n",
       " 30,\n",
       " 5.477225575051661]"
      ]
     },
     "execution_count": 15,
     "metadata": {},
     "output_type": "execute_result"
    }
   ],
   "source": [
    "#       B) Obtenga una lista compuesta por los números pares en el intervalo \n",
    "#         [20;30] y sus respectivas raíces cuadradas. Un ejemplo del resultado \n",
    "#         deseado para el intervalo [50;60] sería la lista [50, 7.0710678118654755, \n",
    "#         52, 7.211102550927978, 54, 7.3484692283495345, 56, 7.483314773547883, 58, 7.615773105863909, \n",
    "#         60, 7.745966692414834].\n",
    "pares_y_sqrt = pares.flatMap(lambda x: [x, math.sqrt(x)])\n",
    "pares_y_sqrt.collect()"
   ]
  },
  {
   "cell_type": "code",
   "execution_count": 16,
   "metadata": {},
   "outputs": [
    {
     "data": {
      "text/plain": [
       "[4.898979485566356,\n",
       " 4.69041575982343,\n",
       " 4.47213595499958,\n",
       " 5.0990195135927845,\n",
       " 5.291502622129181,\n",
       " 5.477225575051661]"
      ]
     },
     "execution_count": 16,
     "metadata": {},
     "output_type": "execute_result"
    }
   ],
   "source": [
    "#       C) Eleve el número de particiones del RDD sqrt a 20.\n",
    "sqrt_reparticionado = sqrt.repartition(20)\n",
    "sqrt_reparticionado.collect()"
   ]
  },
  {
   "cell_type": "code",
   "execution_count": 17,
   "metadata": {},
   "outputs": [
    {
     "data": {
      "text/plain": [
       "[4.898979485566356,\n",
       " 5.477225575051661,\n",
       " 5.0990195135927845,\n",
       " 4.47213595499958,\n",
       " 5.291502622129181,\n",
       " 4.69041575982343]"
      ]
     },
     "execution_count": 17,
     "metadata": {},
     "output_type": "execute_result"
    }
   ],
   "source": [
    "#       D) Si tuviera que disminuir el número de particiones luego de haberlo establecido en 20, \n",
    "#         ¿qué función utilizaría para hacer más eficiente su código? : Se usa   la función coalesce, que es más eficiente que repartition \n",
    "sqrt_reduccion_particiones = sqrt_reparticionado.coalesce(5)\n",
    "sqrt_reduccion_particiones.collect()\n"
   ]
  },
  {
   "cell_type": "code",
   "execution_count": 42,
   "metadata": {},
   "outputs": [
    {
     "data": {
      "text/plain": [
       "['(1001, 52.3)',\n",
       " '(1005, 20.8)',\n",
       " '(1001, 10.1)',\n",
       " '(1004, 52.7)',\n",
       " '(1005, 20.7)',\n",
       " '(1002, 85.3)',\n",
       " '(1004, 20.9)']"
      ]
     },
     "execution_count": 42,
     "metadata": {},
     "output_type": "execute_result"
    }
   ],
   "source": [
    "#3. Cree un RDD del tipo clave valor a partir de la lectura del txt de transacciones. Tenga en cuenta \n",
    "#   que deberá procesar el RDD leído para obtener el resultado solicitado. Supongamos que el RDD \n",
    "#   resultante de tipo clave valor refleja las transacciones realizadas por número de cuentas. Obtenga \n",
    "#   el monto total por cada cuenta (Suma).\n",
    "#   Tip: Cree su propia función para procesar el RDD leído.\n",
    "\n",
    "\n",
    "rdd_transacciones= sc.textFile('./transacciones-Leccion-3-1.txt')\n",
    "rdd_transacciones.collect()\n"
   ]
  },
  {
   "cell_type": "code",
   "execution_count": 43,
   "metadata": {},
   "outputs": [
    {
     "name": "stdout",
     "output_type": "stream",
     "text": [
      "Cuenta 1004: Total 73.6\n",
      "Cuenta 1002: Total 85.3\n",
      "Cuenta 1001: Total 62.4\n",
      "Cuenta 1005: Total 41.5\n"
     ]
    }
   ],
   "source": [
    "# Función para procesar cada línea y convertirla en un par clave-valor\n",
    "def procesar_linea(linea):\n",
    "    # Eliminar paréntesis y espacios\n",
    "    linea = linea.strip().replace('(', '').replace(')', '')\n",
    "    # Dividir por coma\n",
    "    cuenta, monto = linea.split(',')\n",
    "    # Convertir a entero y float respectivamente\n",
    "    return (int(cuenta), float(monto))\n",
    "\n",
    "# Transformar el RDD en un RDD de clave-valor\n",
    "rdd_kv = rdd_transacciones.map(procesar_linea)\n",
    "\n",
    "# Sumar los montos por cada cuenta\n",
    "resultado = rdd_kv.reduceByKey(lambda a, b: a + b)\n",
    "\n",
    "# Mostrar los resultados\n",
    "for cuenta, total in resultado.collect():\n",
    "    print(f\"Cuenta {cuenta}: Total {total}\")\n"
   ]
  }
 ],
 "metadata": {
  "kernelspec": {
   "display_name": "BIGDATA",
   "language": "python",
   "name": "python3"
  },
  "language_info": {
   "codemirror_mode": {
    "name": "ipython",
    "version": 3
   },
   "file_extension": ".py",
   "mimetype": "text/x-python",
   "name": "python",
   "nbconvert_exporter": "python",
   "pygments_lexer": "ipython3",
   "version": "3.9.19"
  }
 },
 "nbformat": 4,
 "nbformat_minor": 2
}
